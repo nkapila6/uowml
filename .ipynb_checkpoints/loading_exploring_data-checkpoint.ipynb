{
 "cells": [
  {
   "cell_type": "code",
   "execution_count": 2,
   "id": "84e3aaf2-aef0-4a9f-a244-1a674f26a003",
   "metadata": {},
   "outputs": [],
   "source": [
    "import turicreate"
   ]
  },
  {
   "cell_type": "code",
   "execution_count": 4,
   "id": "22b03303-d1ce-4e7d-8587-51ec8391244e",
   "metadata": {},
   "outputs": [
    {
     "ename": "OSError",
     "evalue": "/Users/nikhilkapila/Code/uowml/home_data.sframe not found. ErrMsg: file not exist in /Users/nikhilkapila/Code/uowml/home_data.sframe",
     "output_type": "error",
     "traceback": [
      "\u001b[0;31m---------------------------------------------------------------------------\u001b[0m",
      "\u001b[0;31mOSError\u001b[0m                                   Traceback (most recent call last)",
      "File \u001b[0;32m~/miniconda3/envs/uowml/lib/python3.8/site-packages/turicreate/data_structures/sframe.py:834\u001b[0m, in \u001b[0;36mSFrame.__init__\u001b[0;34m(self, data, format, _proxy)\u001b[0m\n\u001b[1;32m    833\u001b[0m     url \u001b[38;5;241m=\u001b[39m _make_internal_url(data)\n\u001b[0;32m--> 834\u001b[0m     \u001b[38;5;28;43mself\u001b[39;49m\u001b[38;5;241;43m.\u001b[39;49m\u001b[43m__proxy__\u001b[49m\u001b[38;5;241;43m.\u001b[39;49m\u001b[43mload_from_sframe_index\u001b[49m\u001b[43m(\u001b[49m\u001b[43murl\u001b[49m\u001b[43m)\u001b[49m\n\u001b[1;32m    835\u001b[0m \u001b[38;5;28;01melif\u001b[39;00m _format \u001b[38;5;241m==\u001b[39m \u001b[38;5;124m\"\u001b[39m\u001b[38;5;124mempty\u001b[39m\u001b[38;5;124m\"\u001b[39m:\n",
      "File \u001b[0;32mcy_sframe.pyx:77\u001b[0m, in \u001b[0;36mturicreate._cython.cy_sframe.UnitySFrameProxy.load_from_sframe_index\u001b[0;34m()\u001b[0m\n",
      "File \u001b[0;32mcy_sframe.pyx:80\u001b[0m, in \u001b[0;36mturicreate._cython.cy_sframe.UnitySFrameProxy.load_from_sframe_index\u001b[0;34m()\u001b[0m\n",
      "\u001b[0;31mOSError\u001b[0m: /Users/nikhilkapila/Code/uowml/home_data.sframe not found. ErrMsg: file not exist in /Users/nikhilkapila/Code/uowml/home_data.sframe",
      "\nDuring handling of the above exception, another exception occurred:\n",
      "\u001b[0;31mOSError\u001b[0m                                   Traceback (most recent call last)",
      "Cell \u001b[0;32mIn[4], line 1\u001b[0m\n\u001b[0;32m----> 1\u001b[0m sales \u001b[38;5;241m=\u001b[39m \u001b[43mturicreate\u001b[49m\u001b[38;5;241;43m.\u001b[39;49m\u001b[43mSFrame\u001b[49m\u001b[43m(\u001b[49m\u001b[38;5;124;43m'\u001b[39;49m\u001b[38;5;124;43mhome_data.sframe\u001b[39;49m\u001b[38;5;124;43m'\u001b[39;49m\u001b[43m)\u001b[49m\n",
      "File \u001b[0;32m~/miniconda3/envs/uowml/lib/python3.8/site-packages/turicreate/data_structures/sframe.py:838\u001b[0m, in \u001b[0;36mSFrame.__init__\u001b[0;34m(self, data, format, _proxy)\u001b[0m\n\u001b[1;32m    836\u001b[0m     \u001b[38;5;28;01mpass\u001b[39;00m\n\u001b[1;32m    837\u001b[0m \u001b[38;5;28;01melse\u001b[39;00m:\n\u001b[0;32m--> 838\u001b[0m     \u001b[38;5;28;01mraise\u001b[39;00m \u001b[38;5;167;01mValueError\u001b[39;00m(\u001b[38;5;124m\"\u001b[39m\u001b[38;5;124mUnknown input type: \u001b[39m\u001b[38;5;124m\"\u001b[39m \u001b[38;5;241m+\u001b[39m \u001b[38;5;28mformat\u001b[39m)\n",
      "File \u001b[0;32m~/miniconda3/envs/uowml/lib/python3.8/site-packages/turicreate/_cython/context.py:50\u001b[0m, in \u001b[0;36mdebug_trace.__exit__\u001b[0;34m(self, exc_type, exc_value, traceback)\u001b[0m\n\u001b[1;32m     47\u001b[0m \u001b[38;5;28;01mif\u001b[39;00m exc_type:\n\u001b[1;32m     48\u001b[0m     \u001b[38;5;28;01mif\u001b[39;00m \u001b[38;5;129;01mnot\u001b[39;00m \u001b[38;5;28mself\u001b[39m\u001b[38;5;241m.\u001b[39mshow_cython_trace:\n\u001b[1;32m     49\u001b[0m         \u001b[38;5;66;03m# To hide cython trace, we re-raise from here\u001b[39;00m\n\u001b[0;32m---> 50\u001b[0m         \u001b[38;5;28;01mraise\u001b[39;00m exc_type(exc_value)\n\u001b[1;32m     51\u001b[0m     \u001b[38;5;28;01melse\u001b[39;00m:\n\u001b[1;32m     52\u001b[0m         \u001b[38;5;66;03m# To show the full trace, we do nothing and let exception propagate\u001b[39;00m\n\u001b[1;32m     53\u001b[0m \n\u001b[1;32m     54\u001b[0m         \u001b[38;5;66;03m# In verbose mode we print the server log\u001b[39;00m\n\u001b[1;32m     55\u001b[0m         \u001b[38;5;28;01mif\u001b[39;00m \u001b[38;5;28mself\u001b[39m\u001b[38;5;241m.\u001b[39mshow_server_log:\n",
      "\u001b[0;31mOSError\u001b[0m: /Users/nikhilkapila/Code/uowml/home_data.sframe not found. ErrMsg: file not exist in /Users/nikhilkapila/Code/uowml/home_data.sframe"
     ]
    }
   ],
   "source": [
    "sales = turicreate.SFrame('home_data.sframe')"
   ]
  },
  {
   "cell_type": "code",
   "execution_count": null,
   "id": "d618f3ef-d7c5-4521-ab2b-ad5abccba46a",
   "metadata": {},
   "outputs": [],
   "source": []
  },
  {
   "cell_type": "code",
   "execution_count": null,
   "id": "58442d8e-2d6f-489e-a007-9058a5689958",
   "metadata": {},
   "outputs": [],
   "source": []
  },
  {
   "cell_type": "code",
   "execution_count": null,
   "id": "513e959e-090d-4e31-87eb-ab8282fe149d",
   "metadata": {},
   "outputs": [],
   "source": []
  },
  {
   "cell_type": "code",
   "execution_count": null,
   "id": "f8b520ed-7b7a-4b76-bf7a-ce0e3ce5ee35",
   "metadata": {},
   "outputs": [],
   "source": []
  },
  {
   "cell_type": "code",
   "execution_count": null,
   "id": "c0202c0b-78d1-4c89-9368-d871d064b3a3",
   "metadata": {},
   "outputs": [],
   "source": []
  },
  {
   "cell_type": "code",
   "execution_count": null,
   "id": "2d4280df-b2d8-4884-b5b7-89ba33e1e690",
   "metadata": {},
   "outputs": [],
   "source": []
  },
  {
   "cell_type": "code",
   "execution_count": null,
   "id": "8972ce98-c624-4ded-8d6b-bc3094f0d1d3",
   "metadata": {},
   "outputs": [],
   "source": []
  }
 ],
 "metadata": {
  "kernelspec": {
   "display_name": "Python 3 (ipykernel)",
   "language": "python",
   "name": "python3"
  },
  "language_info": {
   "codemirror_mode": {
    "name": "ipython",
    "version": 3
   },
   "file_extension": ".py",
   "mimetype": "text/x-python",
   "name": "python",
   "nbconvert_exporter": "python",
   "pygments_lexer": "ipython3",
   "version": "3.8.0"
  }
 },
 "nbformat": 4,
 "nbformat_minor": 5
}
