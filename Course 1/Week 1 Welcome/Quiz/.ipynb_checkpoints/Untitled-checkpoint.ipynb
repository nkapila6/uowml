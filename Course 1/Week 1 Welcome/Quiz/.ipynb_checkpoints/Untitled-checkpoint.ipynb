{
 "cells": [
  {
   "cell_type": "code",
   "execution_count": 2,
   "id": "ea016007-5e49-4dec-90e3-f29737e1c973",
   "metadata": {},
   "outputs": [],
   "source": [
    "# import Turicreate"
   ]
  },
  {
   "cell_type": "code",
   "execution_count": 3,
   "id": "1182701e-1e6a-4838-931f-46e14cecb781",
   "metadata": {},
   "outputs": [],
   "source": [
    "import turicreate as tc"
   ]
  },
  {
   "cell_type": "code",
   "execution_count": 27,
   "id": "dc28668a-88aa-438d-beb8-cdd3aa1d671a",
   "metadata": {},
   "outputs": [
    {
     "ename": "SyntaxError",
     "evalue": "(unicode error) 'unicodeescape' codec can't decode bytes in position 13-14: truncated \\UXXXXXXXX escape (3640534348.py, line 1)",
     "output_type": "error",
     "traceback": [
      "\u001b[0;36m  Cell \u001b[0;32mIn[27], line 1\u001b[0;36m\u001b[0m\n\u001b[0;31m    path = \"~\\clockmaster\\UOW ML Foundations\\Quiz\"\u001b[0m\n\u001b[0m           ^\u001b[0m\n\u001b[0;31mSyntaxError\u001b[0m\u001b[0;31m:\u001b[0m (unicode error) 'unicodeescape' codec can't decode bytes in position 13-14: truncated \\UXXXXXXXX escape\n"
     ]
    }
   ],
   "source": [
    "path = \"~\\clockmaster\\UOW ML Foundations\\Quiz\"\n",
    "quiz_sf = tc.SFrame(data=path)"
   ]
  }
 ],
 "metadata": {
  "kernelspec": {
   "display_name": "Python 3 (ipykernel)",
   "language": "python",
   "name": "python3"
  },
  "language_info": {
   "codemirror_mode": {
    "name": "ipython",
    "version": 3
   },
   "file_extension": ".py",
   "mimetype": "text/x-python",
   "name": "python",
   "nbconvert_exporter": "python",
   "pygments_lexer": "ipython3",
   "version": "3.8.10"
  }
 },
 "nbformat": 4,
 "nbformat_minor": 5
}
